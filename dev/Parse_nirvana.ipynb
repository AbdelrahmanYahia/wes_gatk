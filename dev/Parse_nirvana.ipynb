{
 "cells": [
  {
   "cell_type": "code",
   "execution_count": 1,
   "metadata": {},
   "outputs": [],
   "source": [
    "import pandas as pd\n",
    "import json\n",
    "import gzip"
   ]
  },
  {
   "cell_type": "code",
   "execution_count": 2,
   "metadata": {},
   "outputs": [],
   "source": [
    "file = \"/home/marc/inters/output_test2/05_Annotation/Nirvana/snvs/Annotation.json.gz\""
   ]
  },
  {
   "cell_type": "code",
   "execution_count": 3,
   "metadata": {},
   "outputs": [
    {
     "name": "stdout",
     "output_type": "stream",
     "text": [
      "number of positions: 6557\n",
      "number of genes: 313\n"
     ]
    }
   ],
   "source": [
    "\n",
    "header = ''\n",
    "positions = []\n",
    "genes = []\n",
    "is_header_line = True\n",
    "is_position_line = False\n",
    "is_gene_line = False\n",
    "gene_section_line = '],\"genes\":['\n",
    "end_line = ']}'\n",
    "\n",
    "with gzip.open(file, 'rt') as f:\n",
    "    position_count = 0\n",
    "    gene_count = 0\n",
    "    for line in f:\n",
    "        trim_line = line.strip()\n",
    "        if is_header_line:\n",
    "            ## only keep the \"header\" field content from the line\n",
    "            header = trim_line[10:-14]\n",
    "            is_header_line = False\n",
    "            is_position_line = True\n",
    "            continue\n",
    "        if trim_line == gene_section_line:\n",
    "            is_gene_line = True\n",
    "            is_position_line = False\n",
    "            continue\n",
    "        elif trim_line == end_line:\n",
    "            break\n",
    "        else:\n",
    "            if is_position_line:\n",
    "                ## remove the trailing ',' if there is\n",
    "                positions.append(trim_line.rstrip(','))\n",
    "                position_count += 1\n",
    "            if is_gene_line:\n",
    "                ## remove the trailing ',' if there is\n",
    "                genes.append(trim_line.rstrip(','))\n",
    "                gene_count += 1\n",
    "\n",
    "print ('number of positions:', position_count)\n",
    "print ('number of genes:', gene_count)\n"
   ]
  },
  {
   "cell_type": "code",
   "execution_count": 16,
   "metadata": {},
   "outputs": [],
   "source": [
    "mylist = []\n",
    "for position in positions:\n",
    "    position_dict = json.loads(position)\n",
    "    mylist.append(position_dict)\n",
    "df = pd.DataFrame(mylist)\n",
    "variants_df = df['variants'].apply(pd.Series)\n",
    "variants_df2 = variants_df[0].apply(pd.Series)\n",
    "final_df = pd.concat([df, variants_df2], axis=1).drop(['variants', 'samples'], axis=1)\n",
    "\n"
   ]
  },
  {
   "cell_type": "code",
   "execution_count": 20,
   "metadata": {},
   "outputs": [
    {
     "data": {
      "text/plain": [
       "chromosome                                                            chr8\n",
       "position                                                            196884\n",
       "refAllele                                                                C\n",
       "altAlleles                                                             [A]\n",
       "quality                                                            13610.7\n",
       "filters                                                             [PASS]\n",
       "fisherStrandBias                                                     3.898\n",
       "mappingQuality                                                          60\n",
       "cytogeneticBand                                                     8p23.3\n",
       "vid                                                           8-196884-C-A\n",
       "chromosome                                                            chr8\n",
       "begin                                                               196884\n",
       "end                                                                 196884\n",
       "refAllele                                                                C\n",
       "altAllele                                                                A\n",
       "variantType                                                            SNV\n",
       "hgvsg                                             NC_000008.11:g.196884C>A\n",
       "phylopScore                                                            0.5\n",
       "dannScore                                                             0.22\n",
       "gerpScore                                                              NaN\n",
       "transcripts              [{'transcript': 'ENST00000508026.3', 'source':...\n",
       "dbsnp                                                                  NaN\n",
       "gnomad                                                                 NaN\n",
       "topmed                                                                 NaN\n",
       "globalAllele                                                           NaN\n",
       "regulatoryRegions                                                      NaN\n",
       "inLowComplexityRegion                                                  NaN\n",
       "oneKg                                                                  NaN\n",
       "revel                                                                  NaN\n",
       "clinvar                                                                NaN\n",
       "Name: 50, dtype: object"
      ]
     },
     "execution_count": 20,
     "metadata": {},
     "output_type": "execute_result"
    }
   ],
   "source": []
  },
  {
   "cell_type": "code",
   "execution_count": 5,
   "metadata": {},
   "outputs": [
    {
     "name": "stdout",
     "output_type": "stream",
     "text": [
      "['revel', 'variantType', 'topmed', 'gnomad', 'clinvar', 'oneKg', 'gerpScore', 'vid', 'chromosome', 'regulatoryRegions', 'globalAllele', 'altAllele', 'refAllele', 'phylopScore', 'dbsnp', 'begin', 'end', 'dannScore', 'inLowComplexityRegion', 'transcripts', 'hgvsg']\n"
     ]
    }
   ],
   "source": [
    "mykeys = set()\n",
    "for position in positions:\n",
    "    position_dict = json.loads(position)\n",
    "    if \"variants\" in position_dict:\n",
    "        for variant_dict in position_dict[\"variants\"]:\n",
    "            for keys in variant_dict:\n",
    "                mykeys.add(keys)\n",
    "print(list(mykeys))"
   ]
  }
 ],
 "metadata": {
  "kernelspec": {
   "display_name": "Python 3",
   "language": "python",
   "name": "python3"
  },
  "language_info": {
   "codemirror_mode": {
    "name": "ipython",
    "version": 3
   },
   "file_extension": ".py",
   "mimetype": "text/x-python",
   "name": "python",
   "nbconvert_exporter": "python",
   "pygments_lexer": "ipython3",
   "version": "3.6.9"
  },
  "orig_nbformat": 4
 },
 "nbformat": 4,
 "nbformat_minor": 2
}

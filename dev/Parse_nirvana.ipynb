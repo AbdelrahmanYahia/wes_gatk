{
 "cells": [
  {
   "cell_type": "code",
   "execution_count": 1,
   "metadata": {},
   "outputs": [],
   "source": [
    "import gzip\n"
   ]
  },
  {
   "cell_type": "code",
   "execution_count": null,
   "metadata": {},
   "outputs": [],
   "source": [
    "header = ''\n",
    "positions = []\n",
    "genes = []\n",
    "is_header_line = True\n",
    "is_position_line = False\n",
    "is_gene_line = False\n",
    "gene_section_line = '],\"genes\":['\n",
    "end_line = ']}'\n",
    "with gzip.open('/directory/to/test/file/ceph_trio_test.json.gz', 'rt') as f:\n",
    "    position_count = 0\n",
    "    gene_count = 0\n",
    "    for line in f:\n",
    "        trim_line = line.strip()\n",
    "        if is_header_line:\n",
    "            ## only keep the \"header\" field content from the line\n",
    "            header = trim_line[10:-14]\n",
    "            is_header_line = False\n",
    "            is_position_line = True\n",
    "            continue\n",
    "        if trim_line == gene_section_line:\n",
    "            is_gene_line = True\n",
    "            is_position_line = False\n",
    "            continue\n",
    "        elif trim_line == end_line:\n",
    "            break\n",
    "        else:\n",
    "            if is_position_line:\n",
    "                ## remove the trailing ',' if there is\n",
    "                positions.append(trim_line.rstrip(','))\n",
    "                position_count += 1\n",
    "            if is_gene_line:\n",
    "                ## remove the trailing ',' if there is\n",
    "                genes.append(trim_line.rstrip(','))\n",
    "                gene_count += 1\n",
    "\n"
   ]
  },
  {
   "cell_type": "code",
   "execution_count": null,
   "metadata": {},
   "outputs": [],
   "source": [
    "print ('header object:', header)\n",
    "print ('number of positions:', position_count)\n",
    "print ('number of genes:', gene_count)"
   ]
  },
  {
   "cell_type": "code",
   "execution_count": null,
   "metadata": {},
   "outputs": [],
   "source": [
    "import pandas as pd\n",
    "import json\n",
    "\n",
    "variants_field = 'variants'\n",
    "gnomad_field = 'gnomad'\n",
    "freq_threshold = 0.0001\n",
    "freq_data = {'variant_id': [], 'gnomAD_allele_freq': []}\n",
    "for position in positions:\n",
    "    position_dict = json.loads(position)\n",
    "    if variants_field in position_dict:\n",
    "        for variant_dict in position_dict[variants_field]:\n",
    "            if gnomad_field in variant_dict:\n",
    "                freq = variant_dict[gnomad_field]['allAf']\n",
    "                if freq < freq_threshold:\n",
    "                    freq_data['variant_id'].append(variant_dict['vid'])\n",
    "                    freq_data['gnomAD_allele_freq'].append(freq)\n",
    "\n",
    "freq_df = pd.DataFrame(data=freq_data)\n",
    "freq_df"
   ]
  },
  {
   "cell_type": "code",
   "execution_count": null,
   "metadata": {},
   "outputs": [],
   "source": [
    "gene_data = {'gene': [], 'OMIM_gene_name': []}\n",
    "for gene in genes:\n",
    "    gene_dict = json.loads(gene)\n",
    "    gene_data['gene'].append(gene_dict['name'])\n",
    "    omim_gene_name = ''\n",
    "    if 'omim' in gene_dict:\n",
    "        omim_dict = gene_dict['omim'][0]\n",
    "        if 'geneName' in omim_dict:\n",
    "            omim_gene_name = omim_dict['geneName']\n",
    "    gene_data['OMIM_gene_name'].append(omim_gene_name)\n",
    "\n",
    "gene_df=pd.DataFrame(data=gene_data)\n",
    "gene_df"
   ]
  }
 ],
 "metadata": {
  "kernelspec": {
   "display_name": "Python 3",
   "language": "python",
   "name": "python3"
  },
  "language_info": {
   "codemirror_mode": {
    "name": "ipython",
    "version": 3
   },
   "file_extension": ".py",
   "mimetype": "text/x-python",
   "name": "python",
   "nbconvert_exporter": "python",
   "pygments_lexer": "ipython3",
   "version": "3.6.9"
  },
  "orig_nbformat": 4
 },
 "nbformat": 4,
 "nbformat_minor": 2
}

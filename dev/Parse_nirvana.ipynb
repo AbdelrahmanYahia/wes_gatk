{
 "cells": [
  {
   "cell_type": "code",
   "execution_count": null,
   "metadata": {},
   "outputs": [],
   "source": [
    "import pandas as pd\n",
    "import json\n",
    "import gzip\n",
    "import os\n",
    "\n",
    "#### zcat ~/annDB/broad_hg38/Homo_sapiens.GRCh38.109.gff3.gz | grep \"ID=gene\" > gene.info"
   ]
  },
  {
   "cell_type": "code",
   "execution_count": null,
   "metadata": {},
   "outputs": [],
   "source": [
    "file = \"/home/marc/inters/output_test2/05_Annotation/Nirvana/snvs/Annotation.json.gz\"\n",
    "gene_info = \"/home/marc/Desktop/data/refs/gtf/GRCH38_91/gene.info\"\n",
    "Jasix = os.path.expanduser(\"$HOME/Nirvana/bin/Release/net6.0/Jasix.dll\")\n",
    "\n"
   ]
  },
  {
   "cell_type": "code",
   "execution_count": null,
   "metadata": {},
   "outputs": [],
   "source": [
    "def extract_gene_region(Ann_file, gene_info, id, padding=1000):\n",
    "    interval = os.popen(f\"grep -i 'Name={id};' {gene_info} | awk -F'\\t' '{{print \\\"chr\\\"$1\\\":\\\"$4-{padding}\\\"-\\\"$5+{padding}}}'\").read().strip()\n",
    "    \n",
    "    print(F\"Exporting {id} with padding [ {padding} ] ({interval})  from Annotation file...\")\n",
    "    dotnet_command = f\"dotnet {Jasix} -i {Ann_file} -q {interval}\"\n",
    "    dotnet_output = os.popen(dotnet_command).read().replace(\"\\n\",\"\")\n",
    "\n",
    "    # Format dotnet output\n",
    "    formatted_output = dotnet_output.replace(\"{  \\\"chromosome\", \"\\n{\\\"chromosome\")\n",
    "    formatted_output = formatted_output.replace(\" \", \"\")\n",
    "    formatted_output = formatted_output.replace('{\"positions\":[\\n{', '[{').replace(\"}]}]}]}\",\"}]}]}]\")\n",
    "    # formatted_output = formatted_output.replace(\"]}]}\", \"}]\\n\").replace('{\"positions\":[\\n',\"[\")\n",
    "\n",
    "    return pd.DataFrame(json.loads(formatted_output))\n",
    "    \n",
    "\n",
    "    "
   ]
  },
  {
   "cell_type": "code",
   "execution_count": null,
   "metadata": {},
   "outputs": [],
   "source": [
    "extract_gene_region(file, gene_info, \"FBXO16\", 5000)"
   ]
  },
  {
   "cell_type": "code",
   "execution_count": null,
   "metadata": {},
   "outputs": [],
   "source": []
  },
  {
   "cell_type": "code",
   "execution_count": null,
   "metadata": {},
   "outputs": [],
   "source": [
    "def process_region(*args):\n",
    "    counter = 0\n",
    "    for df in args:\n",
    "        print(len(df))\n",
    "        if counter == 0:\n",
    "            my_df = df\n",
    "        else:\n",
    "            my_df = pd.concat([my_df, df], axis=0, ignore_index=True)\n",
    "        counter += 1\n",
    "        \n",
    "    return my_df"
   ]
  },
  {
   "cell_type": "code",
   "execution_count": null,
   "metadata": {},
   "outputs": [],
   "source": [
    "len(process_region(extract_gene_region(file, gene_info, \"OR4F21\", 5000),extract_gene_region(file, gene_info, \"FBXO16\", 5000),extract_gene_region(file, gene_info, \"FGL1\", 5000)))"
   ]
  },
  {
   "cell_type": "code",
   "execution_count": null,
   "metadata": {},
   "outputs": [],
   "source": [
    "FBXO16"
   ]
  },
  {
   "cell_type": "code",
   "execution_count": null,
   "metadata": {},
   "outputs": [],
   "source": [
    "egene = extract_gene_region(file, gene_info, \"OR4F21\", 5000)\n"
   ]
  },
  {
   "cell_type": "code",
   "execution_count": null,
   "metadata": {},
   "outputs": [],
   "source": [
    "df = pd.DataFrame(egene)\n",
    "variants_df = df['variants'].apply(pd.Series)\n",
    "variants_df2 = variants_df[0].apply(pd.Series)\n",
    "final_df = pd.concat([df, variants_df2], axis=1).drop(['variants', 'samples'], axis=1)"
   ]
  },
  {
   "cell_type": "code",
   "execution_count": null,
   "metadata": {},
   "outputs": [],
   "source": [
    "print(f\"Found {len(final_df)} variants in Gene (OR4F21).\")\n"
   ]
  },
  {
   "cell_type": "code",
   "execution_count": null,
   "metadata": {},
   "outputs": [],
   "source": [
    "final_df[\"dbsnp\"].count()"
   ]
  },
  {
   "cell_type": "code",
   "execution_count": null,
   "metadata": {},
   "outputs": [],
   "source": [
    "biotypes = set()\n",
    "consequences = set()\n",
    "for i in final_df['transcripts'].iloc[1]:\n",
    "    biotypes.add( i[\"bioType\"])\n",
    "    \n",
    "    consequences.add(j for j in i[\"consequence\"])"
   ]
  },
  {
   "cell_type": "code",
   "execution_count": null,
   "metadata": {},
   "outputs": [],
   "source": []
  },
  {
   "cell_type": "code",
   "execution_count": null,
   "metadata": {},
   "outputs": [],
   "source": [
    "for i in myvar:\n",
    "    print(i)"
   ]
  },
  {
   "cell_type": "code",
   "execution_count": null,
   "metadata": {},
   "outputs": [],
   "source": [
    "print(j for j in myvar)"
   ]
  },
  {
   "cell_type": "code",
   "execution_count": null,
   "metadata": {},
   "outputs": [],
   "source": [
    "final_df"
   ]
  },
  {
   "cell_type": "code",
   "execution_count": null,
   "metadata": {},
   "outputs": [],
   "source": [
    "final_df.to_csv(\"/home/marc/OR4F21.tsv\",sep='\\t',index=False)"
   ]
  },
  {
   "cell_type": "code",
   "execution_count": null,
   "metadata": {},
   "outputs": [],
   "source": [
    "\n",
    "header = ''\n",
    "positions = []\n",
    "genes = []\n",
    "is_header_line = True\n",
    "is_position_line = False\n",
    "is_gene_line = False\n",
    "gene_section_line = '],\"genes\":['\n",
    "end_line = ']}'\n",
    "\n",
    "with gzip.open(file, 'rt') as f:\n",
    "    position_count = 0\n",
    "    gene_count = 0\n",
    "    for line in f:\n",
    "        trim_line = line.strip()\n",
    "        if is_header_line:\n",
    "            ## only keep the \"header\" field content from the line\n",
    "            header = trim_line[10:-14]\n",
    "            is_header_line = False\n",
    "            is_position_line = True\n",
    "            continue\n",
    "        if trim_line == gene_section_line:\n",
    "            is_gene_line = True\n",
    "            is_position_line = False\n",
    "            continue\n",
    "        elif trim_line == end_line:\n",
    "            break\n",
    "        else:\n",
    "            if is_position_line:\n",
    "                ## remove the trailing ',' if there is\n",
    "                positions.append(trim_line.rstrip(','))\n",
    "                position_count += 1\n",
    "            if is_gene_line:\n",
    "                ## remove the trailing ',' if there is\n",
    "                genes.append(trim_line.rstrip(','))\n",
    "                gene_count += 1\n",
    "\n",
    "print ('number of positions:', position_count)\n",
    "print ('number of genes:', gene_count)\n"
   ]
  },
  {
   "cell_type": "code",
   "execution_count": null,
   "metadata": {},
   "outputs": [],
   "source": []
  },
  {
   "cell_type": "code",
   "execution_count": null,
   "metadata": {},
   "outputs": [],
   "source": [
    "mylist = []\n",
    "for gene in genes:\n",
    "    position_dict = json.loads(gene)\n",
    "    mylist.append(position_dict)\n",
    "genedf = pd.DataFrame(mylist)"
   ]
  },
  {
   "cell_type": "code",
   "execution_count": null,
   "metadata": {},
   "outputs": [],
   "source": [
    "mylist = []\n",
    "for position in positions:\n",
    "    print(position)\n",
    "    position_dict = json.loads(position)\n",
    "    mylist.append(position_dict)\n",
    "df = pd.DataFrame(mylist)\n",
    "variants_df = df['variants'].apply(pd.Series)\n",
    "variants_df2 = variants_df[0].apply(pd.Series)\n",
    "final_df = pd.concat([df, variants_df2], axis=1).drop(['variants', 'samples'], axis=1)\n",
    "\n"
   ]
  },
  {
   "cell_type": "code",
   "execution_count": null,
   "metadata": {},
   "outputs": [],
   "source": [
    "final_df = pd.read_csv('/home/marc/inters/output_test2/05_Annotation/Nirvana/snvs/Annotation.tsv', delimiter='\\t')\n"
   ]
  },
  {
   "cell_type": "code",
   "execution_count": null,
   "metadata": {},
   "outputs": [],
   "source": [
    "\n",
    "\n",
    "# Define the gene symbol you want to search for\n",
    "target_gene_symbol = 'OR4F21'\n",
    "# final_df = pd.read_csv('/home/marc/inters/output_test2/05_Annotation/Nirvana/snvs/Annotation.tsv', delimiter='\\t')\n",
    "\n",
    "# Function to filter rows based on the target gene symbol\n",
    "def filter_by_gene_symbol(row):\n",
    "    if isinstance(row, list):\n",
    "        for d in row:\n",
    "            if isinstance(d, dict) and d.get('hgnc') == target_gene_symbol:\n",
    "                return True\n",
    "    return False\n",
    "\n",
    "# Apply the filter function to the DataFrame\n",
    "filtered_df = final_df[final_df['transcripts'].apply(filter_by_gene_symbol)]\n",
    "\n",
    "# Print the filtered DataFrame\n",
    "# print(filtered_df)\n",
    "\n",
    "def is_novel(row):\n",
    "    return pd.isna(row['dbsnp'])\n",
    "\n",
    "total_rows = len(filtered_df)\n",
    "total_variants = total_rows\n",
    "variants_with_annotations = total_rows - filtered_df['dbsnp'].isna().sum()\n",
    "novel_variants = total_variants - variants_with_annotations\n",
    "percentage_novel = (novel_variants / total_rows) * 100\n",
    "# Print the statistics\n",
    "print()\n",
    "print(f\"#--------------------{target_gene_symbol}--------------------#\")\n",
    "print(f\"Total Variants: {total_variants}\")\n",
    "print(f\"Variants with Annotations: {variants_with_annotations}\")\n",
    "print(f\"Variants without dbSNP Annotations: {novel_variants}\")\n",
    "print(f\"Percentage of Novel Variants: {percentage_novel} %\")"
   ]
  },
  {
   "cell_type": "code",
   "execution_count": null,
   "metadata": {},
   "outputs": [],
   "source": [
    "import threading\n",
    "import queue\n",
    "import concurrent.futures"
   ]
  },
  {
   "cell_type": "code",
   "execution_count": null,
   "metadata": {},
   "outputs": [],
   "source": [
    "header = ''\n",
    "positions = []\n",
    "genes = []\n",
    "is_header_line = True\n",
    "is_position_line = False\n",
    "is_gene_line = False\n",
    "gene_section_line = '],\"genes\":['\n",
    "end_line = ']}'"
   ]
  },
  {
   "cell_type": "code",
   "execution_count": null,
   "metadata": {},
   "outputs": [],
   "source": [
    "position_count = 0\n",
    "gene_count = 0"
   ]
  },
  {
   "cell_type": "code",
   "execution_count": null,
   "metadata": {},
   "outputs": [],
   "source": [
    "\n",
    "\n",
    "# Define a function to process a chunk of data\n",
    "def process_chunk(chunk):\n",
    "    for line in chunk:\n",
    "        trim_line = line.strip()\n",
    "        if is_header_line:\n",
    "            ## only keep the \"header\" field content from the line\n",
    "            header = trim_line[10:-14]\n",
    "            is_header_line = False\n",
    "            is_position_line = True\n",
    "            continue\n",
    "        if trim_line == gene_section_line:\n",
    "            is_gene_line = True\n",
    "            is_position_line = False\n",
    "            continue\n",
    "        elif trim_line == end_line:\n",
    "            break\n",
    "        else:\n",
    "            if is_position_line:\n",
    "                ## remove the trailing ',' if there is\n",
    "                positions.append(trim_line.rstrip(','))\n",
    "                position_count += 1\n",
    "            if is_gene_line:\n",
    "                ## remove the trailing ',' if there is\n",
    "                genes.append(trim_line.rstrip(','))\n",
    "                gene_count += 1\n",
    "\n",
    "# Function to read and process the file in chunks\n",
    "def process_large_file(filename, chunk_size, num_threads):\n",
    "    # Create a thread-safe queue\n",
    "    chunk_queue = queue.Queue()\n",
    "\n",
    "    # Create a thread pool\n",
    "    with concurrent.futures.ThreadPoolExecutor(max_workers=num_threads) as executor:\n",
    "        # Function to read the file and put chunks into the queue\n",
    "        def read_and_enqueue():\n",
    "            with open(filename, 'rb') as file:\n",
    "                while True:\n",
    "                    chunk = file.read(chunk_size)\n",
    "                    if not chunk:\n",
    "                        break\n",
    "                    chunk_queue.put(chunk)\n",
    "\n",
    "        # Start the reading thread\n",
    "        reading_thread = threading.Thread(target=read_and_enqueue)\n",
    "        reading_thread.start()\n",
    "\n",
    "        # Start worker threads to process the chunks\n",
    "        for _ in range(num_threads):\n",
    "            executor.submit(process_chunk, chunk_queue.get())\n",
    "\n",
    "        # Wait for all threads to finish\n",
    "        executor.shutdown()\n",
    "        reading_thread.join()\n",
    "\n",
    "# Usage\n",
    "if __name__ == \"__main__\":\n",
    "    filename = \"large_file.txt\"\n",
    "    chunk_size = 1024  # Adjust the chunk size as needed\n",
    "    num_threads = 4   # Adjust the number of threads as needed\n",
    "\n",
    "    process_large_file(filename, chunk_size, num_threads)"
   ]
  },
  {
   "cell_type": "code",
   "execution_count": null,
   "metadata": {},
   "outputs": [],
   "source": [
    "import threading\n",
    "import queue\n",
    "import concurrent.futures\n",
    "import pandas as pd\n",
    "import json\n",
    "import gzip\n",
    "\n",
    "\n",
    "header = ''\n",
    "positions = []\n",
    "genes = []\n",
    "is_header_line = True\n",
    "is_position_line = False\n",
    "is_gene_line = False\n",
    "gene_section_line = '],\"genes\":['\n",
    "end_line = ']}'\n",
    "\n",
    "\n",
    "file = \"/home/marc/inters/output_test2/05_Annotation/Nirvana/snvs/Annotation.json.gz\"\n"
   ]
  },
  {
   "cell_type": "code",
   "execution_count": null,
   "metadata": {},
   "outputs": [],
   "source": [
    "\n",
    "with gzip.open(file, 'rt') as f:\n",
    "    position_count = 0\n",
    "    gene_count = 0\n",
    "    for line in f:\n",
    "        trim_line = line.strip()\n",
    "        if is_header_line:\n",
    "            ## only keep the \"header\" field content from the line\n",
    "            header = trim_line[10:-14]\n",
    "            is_header_line = False\n",
    "            is_position_line = True\n",
    "            continue\n",
    "        if trim_line == gene_section_line:\n",
    "            is_gene_line = True\n",
    "            is_position_line = False\n",
    "            continue\n",
    "        elif trim_line == end_line:\n",
    "            break\n",
    "        else:\n",
    "            if is_position_line:\n",
    "                ## remove the trailing ',' if there is\n",
    "                positions.append(trim_line.rstrip(','))\n",
    "                position_count += 1\n",
    "            if is_gene_line:\n",
    "                ## remove the trailing ',' if there is\n",
    "                genes.append(trim_line.rstrip(','))\n",
    "                gene_count += 1\n",
    "\n",
    "print ('number of positions:', position_count)\n",
    "print ('number of genes:', gene_count)"
   ]
  }
 ],
 "metadata": {
  "kernelspec": {
   "display_name": "Python 3",
   "language": "python",
   "name": "python3"
  },
  "language_info": {
   "codemirror_mode": {
    "name": "ipython",
    "version": 3
   },
   "file_extension": ".py",
   "mimetype": "text/x-python",
   "name": "python",
   "nbconvert_exporter": "python",
   "pygments_lexer": "ipython3",
   "version": "3.6.9"
  },
  "orig_nbformat": 4
 },
 "nbformat": 4,
 "nbformat_minor": 2
}
